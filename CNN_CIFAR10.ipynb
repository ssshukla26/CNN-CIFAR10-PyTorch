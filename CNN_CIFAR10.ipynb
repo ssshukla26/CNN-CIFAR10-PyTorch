{
  "nbformat": 4,
  "nbformat_minor": 0,
  "metadata": {
    "colab": {
      "name": "CNN_CIFAR10.ipynb",
      "provenance": [],
      "collapsed_sections": []
    },
    "kernelspec": {
      "name": "python3",
      "display_name": "Python 3"
    },
    "accelerator": "GPU"
  },
  "cells": [
    {
      "cell_type": "markdown",
      "metadata": {
        "id": "qRstveONAV2i"
      },
      "source": [
        "**Import libs**"
      ]
    },
    {
      "cell_type": "code",
      "metadata": {
        "id": "ApGElPhkDjJA"
      },
      "source": [
        "from typing import List, Dict, Set, Tuple, Callable\n",
        "from collections import defaultdict\n",
        "import matplotlib.pyplot as plt\n",
        "import numpy as np\n",
        "from tqdm.notebook import tqdm, trange"
      ],
      "execution_count": 1,
      "outputs": []
    },
    {
      "cell_type": "markdown",
      "metadata": {
        "id": "2-mQij7bDjq6"
      },
      "source": [
        "**Import torch related libs**"
      ]
    },
    {
      "cell_type": "code",
      "metadata": {
        "id": "uXRVyQozgCls"
      },
      "source": [
        "import torch\n",
        "import torchvision\n",
        "import torchvision.transforms as transforms\n",
        "import torchvision.datasets as datasets\n",
        "import torch.nn as nn\n",
        "import torch.nn.functional as F\n",
        "import torch.optim as optim\n",
        "from torch.utils.data.dataloader import DataLoader\n",
        "from torch.utils.data import SubsetRandomSampler"
      ],
      "execution_count": 2,
      "outputs": []
    },
    {
      "cell_type": "markdown",
      "metadata": {
        "id": "Xqovcu2sx50w"
      },
      "source": [
        "**Get Device**"
      ]
    },
    {
      "cell_type": "code",
      "metadata": {
        "colab": {
          "base_uri": "https://localhost:8080/"
        },
        "id": "Bowm4kjox8yn",
        "outputId": "fb9ac274-16ad-4775-d3ed-bfe481b0a6bc"
      },
      "source": [
        "if torch.cuda.is_available():\n",
        "    DEVICE = torch.device('cuda')\n",
        "    print(\"GPU available\")\n",
        "else:\n",
        "    DEVICE = torch.device(\"cpu\")\n",
        "    print(\"GPU not available\")"
      ],
      "execution_count": 3,
      "outputs": [
        {
          "output_type": "stream",
          "text": [
            "GPU available\n"
          ],
          "name": "stdout"
        }
      ]
    },
    {
      "cell_type": "markdown",
      "metadata": {
        "id": "XIsjKKydBezp"
      },
      "source": [
        "**Make a data directory**"
      ]
    },
    {
      "cell_type": "code",
      "metadata": {
        "id": "vh6pfdZ6Biqd"
      },
      "source": [
        "!mkdir -p dataset/CIFAR10/{training,testing}\n",
        "!mkdir -p model"
      ],
      "execution_count": 4,
      "outputs": []
    },
    {
      "cell_type": "markdown",
      "metadata": {
        "id": "bMUAOZk0DPdX"
      },
      "source": [
        "**Global variables (If Any)**"
      ]
    },
    {
      "cell_type": "code",
      "metadata": {
        "id": "rILSccvdDTft"
      },
      "source": [
        "paths = defaultdict(lambda: \"\")\n",
        "paths[\"training_data\"] = \"/content/dataset/CIFAR10/training/\"\n",
        "paths[\"testing_data\"] = \"/content/dataset/CIFAR10/testing/\"\n",
        "paths[\"model_dir\"] = \"/content/model/\""
      ],
      "execution_count": 5,
      "outputs": []
    },
    {
      "cell_type": "code",
      "metadata": {
        "id": "-3tyOLObKGlC"
      },
      "source": [
        "lables = ('plane', 'car', 'bird', 'cat', 'deer', 'dog', 'frog', 'horse', 'ship', 'truck')"
      ],
      "execution_count": 6,
      "outputs": []
    },
    {
      "cell_type": "markdown",
      "metadata": {
        "id": "egOgsZg9A8RN"
      },
      "source": [
        "**Download Training and Testing Data**"
      ]
    },
    {
      "cell_type": "code",
      "metadata": {
        "id": "WwW1wWDhAYOf",
        "colab": {
          "base_uri": "https://localhost:8080/"
        },
        "outputId": "9997b12d-ea1e-48d7-d706-a4cc7531067b"
      },
      "source": [
        "training_transforms = transforms.Compose([transforms.ToTensor()])\n",
        "training_data = datasets.CIFAR10(root=paths[\"training_data\"], train=True, download=True, transform=training_transforms)\n",
        "testing_transforms = transforms.Compose([transforms.ToTensor()])\n",
        "testing_data = datasets.CIFAR10(root=paths[\"testing_data\"], train=False, download=True, transform=testing_transforms)"
      ],
      "execution_count": 7,
      "outputs": [
        {
          "output_type": "stream",
          "text": [
            "Files already downloaded and verified\n",
            "Files already downloaded and verified\n"
          ],
          "name": "stdout"
        }
      ]
    },
    {
      "cell_type": "markdown",
      "metadata": {
        "id": "40KUJeBQEd-Z"
      },
      "source": [
        "**Load data to iterators**"
      ]
    },
    {
      "cell_type": "code",
      "metadata": {
        "id": "CNTBOLpAU97R"
      },
      "source": [
        "indices = np.arange(0,len(training_data))\n",
        "np.random.shuffle(indices)"
      ],
      "execution_count": 8,
      "outputs": []
    },
    {
      "cell_type": "code",
      "metadata": {
        "id": "18bMTfDEVFPG"
      },
      "source": [
        "train_len = int(0.9 * len(training_data))\n",
        "val_len = int(0.1 * len(training_data))"
      ],
      "execution_count": 9,
      "outputs": []
    },
    {
      "cell_type": "code",
      "metadata": {
        "id": "RZy1PZ-NCve-"
      },
      "source": [
        "train_set = DataLoader(training_data, batch_size=32, sampler=SubsetRandomSampler(indices[:train_len]))\n",
        "val_set = DataLoader(training_data, batch_size=32, sampler=SubsetRandomSampler(indices[-val_len:]))\n",
        "test_set = DataLoader(testing_data, batch_size=32, shuffle=True)"
      ],
      "execution_count": 10,
      "outputs": []
    },
    {
      "cell_type": "markdown",
      "metadata": {
        "id": "3JisEuCGH5R4"
      },
      "source": [
        "**Show random four images in the training set**"
      ]
    },
    {
      "cell_type": "code",
      "metadata": {
        "id": "1lhrN4A0IKP2"
      },
      "source": [
        "def show_images(dataiter: iter, n: int = 4):\n",
        "    \n",
        "    x, y = dataiter.next()\n",
        "\n",
        "    fig, ax = plt.subplots(1, n, facecolor=\"white\")\n",
        "\n",
        "    for i, img in enumerate(x):\n",
        "        if i >= n:\n",
        "            break\n",
        "        else:\n",
        "            # convert from CHW to HWC from 3x32x32 to 32x32x3\n",
        "            img = img.numpy()\n",
        "            ax[i].imshow(img.transpose(1,2,0))\n",
        "            ax[i].set_title(lables[y[i]])\n",
        "            ax[i].set_xticks([])\n",
        "            ax[i].set_yticks([])\n",
        "\n",
        "    return"
      ],
      "execution_count": 11,
      "outputs": []
    },
    {
      "cell_type": "code",
      "metadata": {
        "id": "8eOmvHatKy9v",
        "colab": {
          "base_uri": "https://localhost:8080/",
          "height": 123
        },
        "outputId": "b7f4a4ef-3306-4d6b-f90f-7d4de6b603c4"
      },
      "source": [
        "show_images(iter(train_set))"
      ],
      "execution_count": 12,
      "outputs": [
        {
          "output_type": "display_data",
          "data": {
            "image/png": "[encoded data removed]",
            "text/plain": [
              "<Figure size 432x288 with 4 Axes>"
            ]
          },
          "metadata": {
            "tags": []
          }
        }
      ]
    },
    {
      "cell_type": "markdown",
      "metadata": {
        "id": "Q2VF8FgYZX4V"
      },
      "source": [
        "**Plot Training and Validation Metric**"
      ]
    },
    {
      "cell_type": "code",
      "metadata": {
        "id": "vfcIpNkCC5_A"
      },
      "source": [
        "def plot_metric(metric: List, ylabel: str, title: str):\n",
        "    \n",
        "    # Lists\n",
        "    t_data = []\n",
        "    v_data = []\n",
        "    \n",
        "    # Separate training and validation data\n",
        "    for t,v in metric:\n",
        "        t_data.append(t)\n",
        "        v_data.append(v)\n",
        "\n",
        "    # Plot\n",
        "    plt.figure(facecolor=\"white\")\n",
        "    plt.plot(t_data, label=\"Training\")\n",
        "    plt.plot(v_data, label=\"Validation\")\n",
        "    plt.xlabel(\"Epocs\")\n",
        "    plt.ylabel(ylabel)\n",
        "    plt.title(title)\n",
        "    plt.legend()\n",
        "    \n",
        "    return"
      ],
      "execution_count": 13,
      "outputs": []
    },
    {
      "cell_type": "markdown",
      "metadata": {
        "id": "5_41_Hs-Qv3Q"
      },
      "source": [
        "**Build Model**"
      ]
    },
    {
      "cell_type": "code",
      "metadata": {
        "id": "8mTpximRO3Sh"
      },
      "source": [
        "class CNN(nn.Module):\n",
        "    def __init__(self, \n",
        "                 training_dataset: DataLoader, \n",
        "                 validation_dataset: DataLoader, \n",
        "                 testing_dataset: DataLoader, \n",
        "                 is_BatchNorm: bool = False,\n",
        "                 is_Dropout: bool = False,\n",
        "                 is_Dropout_incremental: bool = False):\n",
        "\n",
        "        # parent init\n",
        "        super().__init__()\n",
        "\n",
        "        # General variables\n",
        "        self.is_debug  = False # By default False\n",
        "        self.is_BatchNorm = is_BatchNorm\n",
        "        self.is_Dropout = is_Dropout\n",
        "        self.is_Dropout_incremental = is_Dropout_incremental\n",
        "        self.evaluation_metrics = defaultdict(lambda: [])\n",
        "\n",
        "        # Data set\n",
        "        self.training_dataset = training_dataset\n",
        "        self.validation_dataset = validation_dataset\n",
        "        self.testing_dataset = testing_dataset\n",
        "\n",
        "        # Common layers\n",
        "        self.pool = nn.MaxPool2d(2)\n",
        "        self.dout = nn.Dropout2d(0.2)\n",
        "\n",
        "        # Block 1\n",
        "        self.conv11 = nn.Conv2d(3, 32, 3)\n",
        "        self.conv12 = nn.Conv2d(32, 32, 3)\n",
        "        self.bn1 = nn.BatchNorm2d(32)\n",
        "        self.dout1 = nn.Dropout2d(0.2)\n",
        "\n",
        "        # Block 2\n",
        "        self.conv21 = nn.Conv2d(32, 64, 3)\n",
        "        self.conv22 = nn.Conv2d(64, 64, 3)\n",
        "        self.bn2 = nn.BatchNorm2d(64)\n",
        "        self.dout2 = nn.Dropout2d(0.3)\n",
        "\n",
        "        # Block 3\n",
        "        self.conv31 = nn.Conv2d(64, 128, 3)\n",
        "        self.conv32 = nn.Conv2d(128, 128, 3)\n",
        "        self.bn3 = nn.BatchNorm2d(128)\n",
        "        self.dout3 = nn.Dropout2d(0.4)\n",
        "\n",
        "        # Full connected Layer 1\n",
        "        self.fc1 = nn.Linear(128 * 4 * 4, 128)\n",
        "        self.doutfc1 = nn.Dropout2d(0.5)\n",
        "\n",
        "        # Full connected Layer 2\n",
        "        self.fc2 = nn.Linear(128, 10)\n",
        "\n",
        "        # Get the network on GPU/CPU\n",
        "        self.to(DEVICE)\n",
        "        \n",
        "        return\n",
        "\n",
        "    def forward(self, x, is_debug: bool = False):\n",
        "        # Block 1 Layer 1\n",
        "        x = F.pad(x, (1, 1, 1, 1))\n",
        "        x = F.relu(self.conv11(x))\n",
        "        self.__debug_print(f\"Conv2d: {str(x.size())}\")\n",
        "\n",
        "        # Block 1 Layer 1 Batch Norm\n",
        "        if self.is_BatchNorm:\n",
        "            x = self.bn1(x)\n",
        "            self.__debug_print(f\"BN2d: {str(x.size())}\")\n",
        "\n",
        "        # Block 1 Layer 2\n",
        "        x = F.pad(x, (1, 1, 1, 1))\n",
        "        x = F.relu(self.conv12(x))\n",
        "        self.__debug_print(f\"Conv2d: {str(x.size())}\")\n",
        "\n",
        "        # Block 1 Layer 2 Batch Norm\n",
        "        if self.is_BatchNorm:\n",
        "            x = self.bn1(x)\n",
        "            self.__debug_print(f\"BN2d: {str(x.size())}\")\n",
        "\n",
        "        # Block 1 Maxpool\n",
        "        x = self.pool(x)\n",
        "        self.__debug_print(f\"MaxPool2d: {str(x.size())}\")\n",
        "\n",
        "        # Block 1 Dropout\n",
        "        if self.is_Dropout:\n",
        "            if self.is_Dropout_incremental:\n",
        "                x = self.dout1(x)\n",
        "                self.__debug_print(f\"Dout2d_i: {str(x.size())}\")\n",
        "            else:\n",
        "                x = self.dout(x)\n",
        "                self.__debug_print(f\"Dout2d: {str(x.size())}\")\n",
        "\n",
        "        # Block 2 Layer 1\n",
        "        x = F.pad(x, (1, 1, 1, 1))\n",
        "        x = F.relu(self.conv21(x))\n",
        "        self.__debug_print(f\"Conv2d: {str(x.size())}\")\n",
        "\n",
        "        # Block 2 Layer 1 Batch Norm\n",
        "        if self.is_BatchNorm:\n",
        "            x = self.bn2(x)\n",
        "            self.__debug_print(f\"BN2d: {str(x.size())}\")\n",
        "\n",
        "        # Block 2 Layer 2\n",
        "        x = F.pad(x, (1, 1, 1, 1))\n",
        "        x = F.relu(self.conv22(x))\n",
        "        self.__debug_print(f\"Conv2d: {str(x.size())}\")\n",
        "\n",
        "        # Block 2 Layer 2 Batch Norm\n",
        "        if self.is_BatchNorm:\n",
        "            x = self.bn2(x)\n",
        "            self.__debug_print(f\"BN2d: {str(x.size())}\")\n",
        "\n",
        "        # Block 2 Maxpool\n",
        "        x = self.pool(x)\n",
        "        self.__debug_print(f\"MaxPool2d: {str(x.size())}\")\n",
        "\n",
        "        # Block 2 Dropout\n",
        "        if self.is_Dropout:\n",
        "            if self.is_Dropout_incremental:\n",
        "                x = self.dout2(x)\n",
        "                self.__debug_print(f\"Dout2d_i: {str(x.size())}\")\n",
        "            else:\n",
        "                x = self.dout(x)\n",
        "                self.__debug_print(f\"Dout2d: {str(x.size())}\")\n",
        "\n",
        "        # Block 3 Layer 1\n",
        "        x = F.pad(x, (1, 1, 1, 1))\n",
        "        x = F.relu(self.conv31(x))\n",
        "        self.__debug_print(f\"Conv2d: {str(x.size())}\")\n",
        "\n",
        "        # Block 3 Layer 1 Batch Norm\n",
        "        if self.is_BatchNorm:\n",
        "            x = self.bn3(x)\n",
        "            self.__debug_print(f\"BN2d: {str(x.size())}\")\n",
        "\n",
        "        # Block 3 Layer 2\n",
        "        x = F.pad(x, (1, 1, 1, 1))\n",
        "        x = F.relu(self.conv32(x))\n",
        "        self.__debug_print(f\"Conv2d: {str(x.size())}\")\n",
        "\n",
        "        # Block 3 Layer 2 Batch Norm\n",
        "        if self.is_BatchNorm:\n",
        "            x = self.bn3(x)\n",
        "            self.__debug_print(f\"BN2d: {str(x.size())}\")\n",
        "\n",
        "        # Block 3 Maxpool\n",
        "        x = self.pool(x)\n",
        "        self.__debug_print(f\"MaxPool2d: {str(x.size())}\")\n",
        "\n",
        "        # Block 3 Dropout\n",
        "        if self.is_Dropout:\n",
        "            if self.is_Dropout_incremental:\n",
        "                x = self.dout3(x)\n",
        "                self.__debug_print(f\"Dout2d_i: {str(x.size())}\")\n",
        "            else:\n",
        "                x = self.dout(x)\n",
        "                self.__debug_print(f\"Dout2d: {str(x.size())}\")\n",
        "\n",
        "        # Re-Shaping\n",
        "        x = x.view(x.shape[0], -1)\n",
        "        self.__debug_print(f\"Re-Shaping: {str(x.size())}\")\n",
        "\n",
        "        # Fully connected Layer 1\n",
        "        x = F.relu(self.fc1(x))\n",
        "        self.__debug_print(f\"FC-1: {str(x.size())}\")\n",
        "\n",
        "        # Fully connected Layer 1 Dropout\n",
        "        if self.is_Dropout:\n",
        "            if self.is_Dropout_incremental:\n",
        "                x = self.doutfc1(x)\n",
        "                self.__debug_print(f\"Dout2d_i: {str(x.size())}\")\n",
        "            else:\n",
        "                x = self.dout(x)\n",
        "                self.__debug_print(f\"Dout2d: {str(x.size())}\")\n",
        "\n",
        "        # Fully connected layer 2\n",
        "        x = F.softmax(self.fc2(x), dim=1)\n",
        "        self.__debug_print(f\"FC-2: {str(x.size())}\")\n",
        "        \n",
        "        return x\n",
        "\n",
        "    def __debug_print(self, x: str):\n",
        "        if self.is_debug:\n",
        "            print(x)\n",
        "        return\n",
        "\n",
        "    def debug(self, C: int, W: int, H: int):\n",
        "        self.is_debug = True # Turn Debug Flag On\n",
        "\n",
        "        # Generate a random data\n",
        "        x = torch.randn(C,W,H).view(-1,C,W,H)\n",
        "        x = x.to(DEVICE)\n",
        "\n",
        "        # Feed Forward\n",
        "        self.forward(x, True)\n",
        "\n",
        "        self.is_debug = False # Turn Debug Flag Off\n",
        "        \n",
        "        # Print the network itself\n",
        "        print(self)\n",
        "\n",
        "        return\n",
        "\n",
        "    def train(self, \n",
        "              mode: bool = True, \n",
        "              criterion: Callable = None, \n",
        "              optimizer: optim = None, \n",
        "              epochs: int = 100):\n",
        "        \n",
        "        # Update parent variable\n",
        "        self.training = mode\n",
        "\n",
        "        # Training\n",
        "        if mode:\n",
        "            if criterion == None:\n",
        "                print(\"Please provide criterion / loss function\")\n",
        "                return self\n",
        "            \n",
        "            if optimizer == None:\n",
        "                print(\"Please provide optimizer\")\n",
        "                return self\n",
        "\n",
        "            if epochs <= 0:\n",
        "                print(\"Epochs must be greater than or equal to zero\")\n",
        "                return self\n",
        "\n",
        "            return self.__fit(criterion, optimizer, epochs)\n",
        "\n",
        "        # Evaluating\n",
        "        return self.eval()\n",
        "\n",
        "    def save_model(self, model_name: str):\n",
        "        torch.save(self, \"{}{}\".format(paths[\"model_dir\"], model_name))\n",
        "        return\n",
        "\n",
        "    def load_model(self, model_name: str):\n",
        "        self = torch.load(\"{}{}\".format(paths[\"model_dir\"], model_name))\n",
        "        return\n",
        "\n",
        "    def metrics(self) -> Dict:\n",
        "        return self.evaluation_metrics\n",
        "\n",
        "    def __feed_forward(self, X, y, \n",
        "                       criterion: Callable = None, \n",
        "                       optimizer: optim = None) -> Tuple:\n",
        "        \n",
        "        # return variables with default values\n",
        "        loss = None\n",
        "        acc = []\n",
        "\n",
        "        # Transfer tensors to GPU/CPU\n",
        "        X = X.to(DEVICE)\n",
        "        y = y.to(DEVICE)\n",
        "\n",
        "        # zero the parameter gradients\n",
        "        if optimizer:\n",
        "            optimizer.zero_grad()\n",
        "\n",
        "        # Pass data throught network\n",
        "        y_ = self.forward(X)\n",
        "\n",
        "        # Calc the loss\n",
        "        if criterion:\n",
        "            loss = criterion(y_, y)\n",
        "\n",
        "        # Calc the accuracy\n",
        "        acc = [torch.argmax(output) == target for output, target in zip(y_, y)]\n",
        "\n",
        "        if optimizer:\n",
        "            # back-propogate\n",
        "            loss.backward()\n",
        "\n",
        "            # take one step for optimization\n",
        "            optimizer.step()\n",
        "\n",
        "        return loss, acc\n",
        "\n",
        "    def __accuracy(self, preds: List) -> float:\n",
        "        return round(preds.count(True)/len(preds) * 100, 2)\n",
        "\n",
        "    def __fit(self, criterion: Callable, optimizer: optim, epochs: int):\n",
        "\n",
        "        training_metric = {}         \n",
        "        loss_metric = []\n",
        "        acc_metric = []\n",
        "\n",
        "        epoch = trange(epochs, desc=\"Epochs\")\n",
        "\n",
        "        for i in epoch:\n",
        "\n",
        "        # -------------------------------------------------------------------- #\n",
        "\n",
        "            # Loop through training set\n",
        "            training_loss = 0\n",
        "            training_accuracy = []\n",
        "            for data in tqdm(self.training_dataset, desc=\"Batch Training\", leave=False):\n",
        "\n",
        "                # Feed forward the data\n",
        "                loss, acc = self.__feed_forward(data[0],data[1], criterion, optimizer)\n",
        "\n",
        "                # append loss, acc\n",
        "                training_loss += loss.item()\n",
        "                training_accuracy += acc\n",
        "            \n",
        "            # Calc overall loss\n",
        "            training_loss = round(training_loss/len(self.training_dataset),2)\n",
        "\n",
        "            # Calc overall acc\n",
        "            training_accuracy = self.__accuracy(training_accuracy)\n",
        "\n",
        "        # -------------------------------------------------------------------- #\n",
        "            \n",
        "            # Loop through validation set\n",
        "            validation_loss  = 0\n",
        "            validation_accuracy = []\n",
        "            for data in tqdm(self.validation_dataset, desc=\"Batch Validation\", leave=False):\n",
        "\n",
        "                # Feed forward the data\n",
        "                with torch.no_grad():\n",
        "                    loss, acc = self.__feed_forward(data[0],data[1], criterion)\n",
        "\n",
        "                # append loss, acc\n",
        "                validation_loss += loss.item()\n",
        "                validation_accuracy += acc\n",
        "\n",
        "            # Calc overall loss\n",
        "            validation_loss = round(validation_loss/len(self.validation_dataset),2)\n",
        "            \n",
        "            # Calc overall acc\n",
        "            validation_accuracy = self.__accuracy(validation_accuracy)\n",
        "\n",
        "        # -------------------------------------------------------------------- #\n",
        "        \n",
        "            # Fill metric\n",
        "            loss_metric.append([training_loss, validation_loss])\n",
        "            acc_metric.append([training_accuracy, validation_accuracy])\n",
        "\n",
        "        # -------------------------------------------------------------------- #\n",
        "\n",
        "            # Update epoch postfix\n",
        "            epoch.set_postfix_str(f\"loss = {str(training_loss)}\")          \n",
        "        \n",
        "        # -------------------------------------------------------------------- #\n",
        "\n",
        "        # Update metric\n",
        "        training_metric[\"loss\"] = loss_metric\n",
        "        training_metric[\"acc\"] = acc_metric\n",
        "        self.evaluation_metrics[\"training\"] = training_metric\n",
        "\n",
        "        return self\n",
        "\n",
        "    def eval(self):\n",
        "\n",
        "        eval_acc = []\n",
        "\n",
        "        # Loop through test data set\n",
        "        for data in tqdm(self.testing_dataset, desc=\"Batch Testing\", leave=False):\n",
        "\n",
        "            # Feed forward the data\n",
        "            with torch.no_grad():\n",
        "                _, acc = self.__feed_forward(data[0],data[1])\n",
        "\n",
        "            # append acc\n",
        "            eval_acc += acc\n",
        "\n",
        "        # Update metirc    \n",
        "        self.evaluation_metrics[\"testing\"] = self.__accuracy(eval_acc)\n",
        "\n",
        "        return self"
      ],
      "execution_count": 14,
      "outputs": []
    },
    {
      "cell_type": "markdown",
      "metadata": {
        "id": "UaCsENAaFrWV"
      },
      "source": [
        "**Make Models**"
      ]
    },
    {
      "cell_type": "code",
      "metadata": {
        "id": "xRzkWlz9UnWa"
      },
      "source": [
        "cnn = CNN(train_set, val_set, test_set, True, True, True)"
      ],
      "execution_count": 15,
      "outputs": []
    },
    {
      "cell_type": "code",
      "metadata": {
        "colab": {
          "base_uri": "https://localhost:8080/"
        },
        "id": "hEhkn78zL8ad",
        "outputId": "0ba54e79-0a0d-4fb8-9a41-06c0c3253267"
      },
      "source": [
        "cnn.debug(3,32,32)"
      ],
      "execution_count": 16,
      "outputs": [
        {
          "output_type": "stream",
          "text": [
            "Conv2d: torch.Size([1, 32, 32, 32])\n",
            "BN2d: torch.Size([1, 32, 32, 32])\n",
            "Conv2d: torch.Size([1, 32, 32, 32])\n",
            "BN2d: torch.Size([1, 32, 32, 32])\n",
            "MaxPool2d: torch.Size([1, 32, 16, 16])\n",
            "Dout2d_i: torch.Size([1, 32, 16, 16])\n",
            "Conv2d: torch.Size([1, 64, 16, 16])\n",
            "BN2d: torch.Size([1, 64, 16, 16])\n",
            "Conv2d: torch.Size([1, 64, 16, 16])\n",
            "BN2d: torch.Size([1, 64, 16, 16])\n",
            "MaxPool2d: torch.Size([1, 64, 8, 8])\n",
            "Dout2d_i: torch.Size([1, 64, 8, 8])\n",
            "Conv2d: torch.Size([1, 128, 8, 8])\n",
            "BN2d: torch.Size([1, 128, 8, 8])\n",
            "Conv2d: torch.Size([1, 128, 8, 8])\n",
            "BN2d: torch.Size([1, 128, 8, 8])\n",
            "MaxPool2d: torch.Size([1, 128, 4, 4])\n",
            "Dout2d_i: torch.Size([1, 128, 4, 4])\n",
            "Re-Shaping: torch.Size([1, 2048])\n",
            "FC-1: torch.Size([1, 128])\n",
            "Dout2d_i: torch.Size([1, 128])\n",
            "FC-2: torch.Size([1, 10])\n",
            "CNN(\n",
            "  (pool): MaxPool2d(kernel_size=2, stride=2, padding=0, dilation=1, ceil_mode=False)\n",
            "  (dout): Dropout2d(p=0.2, inplace=False)\n",
            "  (conv11): Conv2d(3, 32, kernel_size=(3, 3), stride=(1, 1))\n",
            "  (conv12): Conv2d(32, 32, kernel_size=(3, 3), stride=(1, 1))\n",
            "  (bn1): BatchNorm2d(32, eps=1e-05, momentum=0.1, affine=True, track_running_stats=True)\n",
            "  (dout1): Dropout2d(p=0.2, inplace=False)\n",
            "  (conv21): Conv2d(32, 64, kernel_size=(3, 3), stride=(1, 1))\n",
            "  (conv22): Conv2d(64, 64, kernel_size=(3, 3), stride=(1, 1))\n",
            "  (bn2): BatchNorm2d(64, eps=1e-05, momentum=0.1, affine=True, track_running_stats=True)\n",
            "  (dout2): Dropout2d(p=0.3, inplace=False)\n",
            "  (conv31): Conv2d(64, 128, kernel_size=(3, 3), stride=(1, 1))\n",
            "  (conv32): Conv2d(128, 128, kernel_size=(3, 3), stride=(1, 1))\n",
            "  (bn3): BatchNorm2d(128, eps=1e-05, momentum=0.1, affine=True, track_running_stats=True)\n",
            "  (dout3): Dropout2d(p=0.4, inplace=False)\n",
            "  (fc1): Linear(in_features=2048, out_features=128, bias=True)\n",
            "  (doutfc1): Dropout2d(p=0.5, inplace=False)\n",
            "  (fc2): Linear(in_features=128, out_features=10, bias=True)\n",
            ")\n"
          ],
          "name": "stdout"
        }
      ]
    },
    {
      "cell_type": "markdown",
      "metadata": {
        "id": "ICK-_AKfenSn"
      },
      "source": [
        "**Train Model**"
      ]
    },
    {
      "cell_type": "code",
      "metadata": {
        "id": "gL6TPkC_dc5F"
      },
      "source": [
        "cnn.train(criterion=nn.CrossEntropyLoss(), \n",
        "        optimizer=optim.SGD(cnn.parameters(), lr=1e-3, momentum=9e-1), \n",
        "        epochs=100)"
      ],
      "execution_count": null,
      "outputs": []
    },
    {
      "cell_type": "markdown",
      "metadata": {
        "id": "6qPM9uzajzuV"
      },
      "source": [
        "**Evaluate Model**"
      ]
    },
    {
      "cell_type": "code",
      "metadata": {
        "id": "UFdpCT08kj8g"
      },
      "source": [
        "cnn.eval()"
      ],
      "execution_count": null,
      "outputs": []
    },
    {
      "cell_type": "markdown",
      "metadata": {
        "id": "zDR6FmSk8c9e"
      },
      "source": [
        "**Metrics**"
      ]
    },
    {
      "cell_type": "code",
      "metadata": {
        "id": "ExRFzr6Bx375"
      },
      "source": [
        "metric = cnn.metrics()"
      ],
      "execution_count": 19,
      "outputs": []
    },
    {
      "cell_type": "code",
      "metadata": {
        "id": "XdYbW33frQPZ",
        "colab": {
          "base_uri": "https://localhost:8080/",
          "height": 295
        },
        "outputId": "e664d47c-bc0a-4d51-8275-372a30791551"
      },
      "source": [
        "plot_metric(metric[\"training\"][\"loss\"], \"Loss\", \"Loss Metric\")"
      ],
      "execution_count": 20,
      "outputs": [
        {
          "output_type": "display_data",
          "data": {
            "image/png": "[encoded data removed]",
            "text/plain": [
              "<Figure size 432x288 with 1 Axes>"
            ]
          },
          "metadata": {
            "tags": []
          }
        }
      ]
    },
    {
      "cell_type": "code",
      "metadata": {
        "colab": {
          "base_uri": "https://localhost:8080/",
          "height": 295
        },
        "id": "QUPSI768YWMY",
        "outputId": "2e6aac0a-f87e-4161-c0a5-c512640cbcf4"
      },
      "source": [
        "plot_metric(metric[\"training\"][\"acc\"], \"Accuracy\", \"Accuracy Metric\")"
      ],
      "execution_count": 21,
      "outputs": [
        {
          "output_type": "display_data",
          "data": {
            "image/png": "[encoded data removed]",
            "text/plain": [
              "<Figure size 432x288 with 1 Axes>"
            ]
          },
          "metadata": {
            "tags": []
          }
        }
      ]
    },
    {
      "cell_type": "code",
      "metadata": {
        "colab": {
          "base_uri": "https://localhost:8080/"
        },
        "id": "7Mk6cwGFVzBE",
        "outputId": "071afbc1-856f-4718-b575-070696bdfaf3"
      },
      "source": [
        "print(\"Testing Accuracy: {}\".format(str(metric[\"testing\"])))"
      ],
      "execution_count": 22,
      "outputs": [
        {
          "output_type": "stream",
          "text": [
            "Testing Accuracy: 77.79\n"
          ],
          "name": "stdout"
        }
      ]
    }
  ]
}